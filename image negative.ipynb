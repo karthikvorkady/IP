{
 "cells": [
  {
   "cell_type": "code",
   "execution_count": 1,
   "id": "17a98024",
   "metadata": {},
   "outputs": [],
   "source": [
    "#import Pillow modules\n",
    "from PIL import Image\n",
    "from PIL import ImageFilter\n",
    "\n",
    "img=Image.open(\"nat.jpg\")\n",
    "img.show()\n",
    "\n",
    "for i in range(0,img.size[0]-1):\n",
    "    for j in range(0,img.size[1]-1):\n",
    "        \n",
    "        pixelcolorvals=img.getpixel((i,j));\n",
    "        redpixel=255-pixelcolorvals[0];\n",
    "        greenpixel=255-pixelcolorvals[1];\n",
    "        bluepixel=255-pixelcolorvals[2];\n",
    "        \n",
    "        img.putpixel((i,j),(redpixel,greenpixel,bluepixel));\n",
    "        \n",
    "img.show();"
   ]
  },
  {
   "cell_type": "code",
   "execution_count": null,
   "id": "cc33c786",
   "metadata": {},
   "outputs": [],
   "source": [
    "\n",
    "#!/usr/bin/env python\n",
    "# coding: utf-8\n",
    "\n",
    "import cv2\n",
    "import math\n",
    "\n",
    "#img = cv2.imread(\"pas_grey.jpg\")\n",
    "img = cv2.imread(\"./rot.jpg\")\n",
    "cv2.imshow('original_image',img)\n",
    "#cv2.waitKey()\n",
    "#cv2.destroyAllWindows()\n",
    "\n",
    "\n",
    "\n",
    "\n",
    "\n",
    "\n",
    "\n",
    "\n",
    "\n",
    "\n",
    "\n",
    "\n"
   ]
  },
  {
   "cell_type": "code",
   "execution_count": null,
   "id": "6d933f8b",
   "metadata": {},
   "outputs": [],
   "source": [
    "height, width, channels = img.shape\n",
    "max_pixel_value = max_pixel(img)\n",
    "\n",
    "for i in range(height):\n",
    "    for j in range(width):\n",
    "        for k in range(channels):\n",
    "            #new_col = 255 - img[i][j][k]\n",
    "            new_col = log_transform(img[i][j][k], max_pixel_value)\n",
    "            #new_col = powertrans(255, 0.4, img[i][j][k])\n",
    "            img[i][j][k] = new_col\n",
    "\n",
    "cv2.imshow('rot',img)\n",
    "cv2.waitKey()\n",
    "cv2.destroyAllWindows()\n",
    "\n",
    "\n",
    "\n",
    "\n",
    "\n",
    "\n",
    "\n",
    "def powertrans(c, gamma, r):\n",
    "    #  = C*r^gamma\n",
    "    new_col = c*((r/c)**gamma)\n",
    "    return new_col"
   ]
  },
  {
   "cell_type": "code",
   "execution_count": null,
   "id": "5dd8759b",
   "metadata": {},
   "outputs": [],
   "source": [
    "def max_pixel(img):\n",
    "    max_pixel = 0\n",
    "    height, width, channels = img.shape\n",
    "    \n",
    "    for i in range(height):\n",
    "        for j in range(width):\n",
    "            for k in range(channels):\n",
    "                if(max_pixel < img[i][j][k]):\n",
    "                    max_pixel = img[i][j][k]\n",
    "    \n",
    "    return max_pixel"
   ]
  },
  {
   "cell_type": "code",
   "execution_count": null,
   "id": "f6e170c9",
   "metadata": {},
   "outputs": [],
   "source": [
    "def log_transform(col, max_pixel_value):\n",
    "    c = 255/(math.log(1+max_pixel_value))\n",
    "    new_col = c * math.log(1+col)\n",
    "    return new_col\n"
   ]
  },
  {
   "cell_type": "code",
   "execution_count": null,
   "id": "7c416d40",
   "metadata": {},
   "outputs": [],
   "source": [
    "import cv2\n",
    "import math\n",
    "\n",
    "#img = cv2.imread(\"pas_grey.jpg\")\n",
    "img = cv2.imread(\"rot.jpg\")\n",
    "cv2.imshow(\"original_image\",img)"
   ]
  },
  {
   "cell_type": "code",
   "execution_count": null,
   "id": "1c7395c7",
   "metadata": {},
   "outputs": [],
   "source": []
  },
  {
   "cell_type": "code",
   "execution_count": null,
   "id": "83e9084c",
   "metadata": {},
   "outputs": [],
   "source": []
  },
  {
   "cell_type": "code",
   "execution_count": null,
   "id": "b0ede042",
   "metadata": {},
   "outputs": [],
   "source": []
  },
  {
   "cell_type": "code",
   "execution_count": null,
   "id": "88729249",
   "metadata": {},
   "outputs": [],
   "source": []
  },
  {
   "cell_type": "code",
   "execution_count": null,
   "id": "806fe4b8",
   "metadata": {},
   "outputs": [],
   "source": []
  }
 ],
 "metadata": {
  "kernelspec": {
   "display_name": "Python 3",
   "language": "python",
   "name": "python3"
  },
  "language_info": {
   "codemirror_mode": {
    "name": "ipython",
    "version": 3
   },
   "file_extension": ".py",
   "mimetype": "text/x-python",
   "name": "python",
   "nbconvert_exporter": "python",
   "pygments_lexer": "ipython3",
   "version": "3.8.8"
  }
 },
 "nbformat": 4,
 "nbformat_minor": 5
}
